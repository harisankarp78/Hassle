{
 "cells": [
  {
   "cell_type": "code",
   "execution_count": 1,
   "id": "5cf40a44",
   "metadata": {},
   "outputs": [],
   "source": [
    "import pandas as pd"
   ]
  },
  {
   "cell_type": "code",
   "execution_count": 5,
   "id": "9a9ce163",
   "metadata": {},
   "outputs": [
    {
     "name": "stdout",
     "output_type": "stream",
     "text": [
      "1.4.3\n"
     ]
    }
   ],
   "source": [
    "print(pd.__version__)"
   ]
  },
  {
   "cell_type": "markdown",
   "id": "18d8462b",
   "metadata": {},
   "source": [
    "# EXERCISE 1 - List-to-Series Conversion\n"
   ]
  },
  {
   "cell_type": "code",
   "execution_count": 9,
   "id": "e19b9b19",
   "metadata": {},
   "outputs": [
    {
     "name": "stdout",
     "output_type": "stream",
     "text": [
      "0    1\n",
      "1    2\n",
      "2    3\n",
      "dtype: int64\n"
     ]
    }
   ],
   "source": [
    "given_list= [1,2,3]\n",
    "series = pd.Series(given_list)\n",
    "print (series)"
   ]
  },
  {
   "cell_type": "markdown",
   "id": "4086c997",
   "metadata": {},
   "source": [
    "# EXERCISE 2 - List-to-Series Conversion with Custom Indexing\n"
   ]
  },
  {
   "cell_type": "code",
   "execution_count": 12,
   "id": "ebccc910",
   "metadata": {},
   "outputs": [
    {
     "name": "stdout",
     "output_type": "stream",
     "text": [
      "3      2\n",
      "77     5\n",
      "9      8\n",
      "4      9\n",
      "7     10\n",
      "dtype: int64\n"
     ]
    }
   ],
   "source": [
    "given_list = [2,5,8,9,10]\n",
    "series = pd.Series(given_list,index=[3,77,9,4,7])\n",
    "print(series)"
   ]
  },
  {
   "cell_type": "markdown",
   "id": "af68253b",
   "metadata": {},
   "source": [
    "# EXERCISE 3 - Date Series Generation\n",
    "\n"
   ]
  },
  {
   "cell_type": "code",
   "execution_count": 13,
   "id": "abed6794",
   "metadata": {},
   "outputs": [
    {
     "name": "stdout",
     "output_type": "stream",
     "text": [
      "DatetimeIndex(['2012-12-12', '2012-12-13', '2012-12-14', '2012-12-15',\n",
      "               '2012-12-16', '2012-12-17', '2012-12-18', '2012-12-19',\n",
      "               '2012-12-20', '2012-12-21', '2012-12-22', '2012-12-23',\n",
      "               '2012-12-24', '2012-12-25'],\n",
      "              dtype='datetime64[ns]', freq='D')\n"
     ]
    }
   ],
   "source": [
    "date_range= pd.date_range(start ='12-12-12', end ='25-12-12')\n",
    "print (date_range)"
   ]
  },
  {
   "cell_type": "markdown",
   "id": "7a3a4f13",
   "metadata": {},
   "source": [
    "# EXERCISE 4 - Implementing a function on each and every element of a series\n"
   ]
  },
  {
   "cell_type": "code",
   "execution_count": 18,
   "id": "3b9163b3",
   "metadata": {},
   "outputs": [
    {
     "name": "stdout",
     "output_type": "stream",
     "text": [
      "0    1\n",
      "1    2\n",
      "2    3\n",
      "3    4\n",
      "4    5\n",
      "5    6\n",
      "dtype: int64\n",
      "0    0.2\n",
      "1    0.4\n",
      "2    0.6\n",
      "3    0.8\n",
      "4    1.0\n",
      "5    1.2\n",
      "dtype: float64\n"
     ]
    }
   ],
   "source": [
    "given_list = [1,2,3,4,5,6]\n",
    "series = pd.Series(given_list)\n",
    "print(series)\n",
    "modified_series = series.apply (lambda x:x/5) \n",
    "print (modified_series)"
   ]
  },
  {
   "cell_type": "markdown",
   "id": "09232a67",
   "metadata": {},
   "source": [
    "# EXERCISE 5 - Dictionary-to-Dataframe Conversion\n"
   ]
  },
  {
   "cell_type": "code",
   "execution_count": 20,
   "id": "13f71119",
   "metadata": {},
   "outputs": [
    {
     "name": "stdout",
     "output_type": "stream",
     "text": [
      "     name  age         occ\n",
      "0   Vinay   22    engineer\n",
      "1  Kushal   25      doctor\n",
      "2    Aman   24  accountant\n"
     ]
    }
   ],
   "source": [
    "\n",
    "dictionary = {'name': ['Vinay', 'Kushal', 'Aman'],\n",
    "              'age' : [22, 25, 24],\n",
    "              'occ' : ['engineer', 'doctor', 'accountant']}\n",
    "dataframe= pd.DataFrame (dictionary)\n",
    "print (dataframe)"
   ]
  },
  {
   "cell_type": "markdown",
   "id": "cf7ce335",
   "metadata": {},
   "source": [
    "to be continued..."
   ]
  },
  {
   "cell_type": "code",
   "execution_count": null,
   "id": "0dfb90a8",
   "metadata": {},
   "outputs": [],
   "source": []
  }
 ],
 "metadata": {
  "kernelspec": {
   "display_name": "Python 3 (ipykernel)",
   "language": "python",
   "name": "python3"
  },
  "language_info": {
   "codemirror_mode": {
    "name": "ipython",
    "version": 3
   },
   "file_extension": ".py",
   "mimetype": "text/x-python",
   "name": "python",
   "nbconvert_exporter": "python",
   "pygments_lexer": "ipython3",
   "version": "3.10.6"
  }
 },
 "nbformat": 4,
 "nbformat_minor": 5
}
